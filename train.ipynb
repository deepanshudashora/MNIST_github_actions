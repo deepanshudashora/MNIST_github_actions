{
  "cells": [
    {
      "cell_type": "code",
      "execution_count": 1,
      "metadata": {
        "id": "6PlbomWY3RSq"
      },
      "outputs": [],
      "source": [
        "# Initialized Logger\n",
        "import torch\n",
        "import torch.optim as optim\n",
        "from torchvision import datasets\n",
        "from torchsummary import summary\n",
        "from model import Net\n",
        "from utils import data_transformation,get_device, \\\n",
        "                  fit_model, plot_accuracy_report, \\\n",
        "                  show_random_results, plot_misclassified, \\\n",
        "                  calculate_accuracy_per_class"
      ]
    },
    {
      "cell_type": "markdown",
      "metadata": {
        "id": "VjBHHQVA6sXt"
      },
      "source": [
        "CODE BLOCK: 2"
      ]
    },
    {
      "cell_type": "code",
      "execution_count": 2,
      "metadata": {
        "colab": {
          "base_uri": "https://localhost:8080/"
        },
        "id": "94BxVVBP3WwS",
        "outputId": "a01dbe03-cbff-4542-e329-29c7311a957c"
      },
      "outputs": [
        {
          "name": "stdout",
          "output_type": "stream",
          "text": [
            "Available Device ::  cpu\n"
          ]
        }
      ],
      "source": [
        "# CUDA?\n",
        "device = get_device()\n",
        "print(\"Available Device :: \", device)"
      ]
    },
    {
      "cell_type": "markdown",
      "metadata": {
        "id": "3UHq59Sw6tmW"
      },
      "source": [
        "CODE BLOCK: 3"
      ]
    },
    {
      "cell_type": "code",
      "execution_count": 3,
      "metadata": {
        "colab": {
          "base_uri": "https://localhost:8080/"
        },
        "id": "KpshQ2Ug38m2",
        "outputId": "ba1021ae-511b-493f-dae5-faf08e64197b"
      },
      "outputs": [],
      "source": [
        "transformation_matrix = {\"image_size\":(28,28),\n",
        "                         \"random_rotation_angle\":(-5.0, 5.0),\n",
        "                         \"mean_of_data\":(0.1307,),\n",
        "                         \"std_of_data\": (0.3081,),\n",
        "                         \"center_crop_size\": (24,24),\n",
        "                         \"center_crop_probability\" : 0.1,\n",
        "                         }\n",
        "\n",
        "dataloader_kwargs = {'batch_size': 64, 'shuffle': True, 'num_workers': 1, 'pin_memory': True}\n",
        "\n",
        "\n",
        "train_transforms, test_transforms = data_transformation(transformation_matrix)\n",
        "train_data = datasets.MNIST('../data', train=True, download=True, transform=train_transforms)\n",
        "test_data = datasets.MNIST('../data', train=False, download=True, transform=test_transforms)\n",
        "\n",
        "train_loader = torch.utils.data.DataLoader(train_data, **dataloader_kwargs)\n",
        "test_loader = torch.utils.data.DataLoader(test_data, **dataloader_kwargs)"
      ]
    },
    {
      "cell_type": "code",
      "execution_count": 4,
      "metadata": {
        "colab": {
          "base_uri": "https://localhost:8080/",
          "height": 463
        },
        "id": "Hx7QkLcw4Epc",
        "outputId": "4a5c2f42-9810-419d-a542-ee1ac9dc6b7b"
      },
      "outputs": [
        {
          "data": {
            "image/png": "[encoded data removed]",
            "text/plain": [
              "<Figure size 640x480 with 12 Axes>"
            ]
          },
          "metadata": {},
          "output_type": "display_data"
        }
      ],
      "source": [
        "import matplotlib.pyplot as plt\n",
        "\n",
        "batch_data, batch_label = next(iter(train_loader))\n",
        "\n",
        "fig = plt.figure()\n",
        "\n",
        "for i in range(12):\n",
        "  plt.subplot(3,4,i+1)\n",
        "  plt.tight_layout()\n",
        "  plt.imshow(batch_data[i].squeeze(0), cmap='gray')\n",
        "  plt.title(batch_label[i].item())\n",
        "  plt.xticks([])\n",
        "  plt.yticks([])"
      ]
    },
    {
      "cell_type": "code",
      "execution_count": 5,
      "metadata": {
        "colab": {
          "base_uri": "https://localhost:8080/"
        },
        "id": "_Hg4gDlOKMEd",
        "outputId": "7be0ec31-49c4-4630-a0e8-34929c00b046"
      },
      "outputs": [
        {
          "name": "stdout",
          "output_type": "stream",
          "text": [
            "----------------------------------------------------------------\n",
            "        Layer (type)               Output Shape         Param #\n",
            "================================================================\n",
            "            Conv2d-1            [-1, 4, 26, 26]              36\n",
            "              ReLU-2            [-1, 4, 26, 26]               0\n",
            "       BatchNorm2d-3            [-1, 4, 26, 26]               8\n",
            "           Dropout-4            [-1, 4, 26, 26]               0\n",
            "            Conv2d-5           [-1, 10, 24, 24]             360\n",
            "              ReLU-6           [-1, 10, 24, 24]               0\n",
            "       BatchNorm2d-7           [-1, 10, 24, 24]              20\n",
            "           Dropout-8           [-1, 10, 24, 24]               0\n",
            "         MaxPool2d-9           [-1, 10, 12, 12]               0\n",
            "           Conv2d-10            [-1, 8, 12, 12]              80\n",
            "             ReLU-11            [-1, 8, 12, 12]               0\n",
            "      BatchNorm2d-12            [-1, 8, 12, 12]              16\n",
            "          Dropout-13            [-1, 8, 12, 12]               0\n",
            "           Conv2d-14            [-1, 4, 12, 12]              32\n",
            "             ReLU-15            [-1, 4, 12, 12]               0\n",
            "      BatchNorm2d-16            [-1, 4, 12, 12]               8\n",
            "          Dropout-17            [-1, 4, 12, 12]               0\n",
            "           Conv2d-18           [-1, 10, 10, 10]             360\n",
            "             ReLU-19           [-1, 10, 10, 10]               0\n",
            "      BatchNorm2d-20           [-1, 10, 10, 10]              20\n",
            "          Dropout-21           [-1, 10, 10, 10]               0\n",
            "           Conv2d-22             [-1, 16, 8, 8]           1,440\n",
            "             ReLU-23             [-1, 16, 8, 8]               0\n",
            "      BatchNorm2d-24             [-1, 16, 8, 8]              32\n",
            "          Dropout-25             [-1, 16, 8, 8]               0\n",
            "           Conv2d-26             [-1, 12, 6, 6]           1,728\n",
            "             ReLU-27             [-1, 12, 6, 6]               0\n",
            "      BatchNorm2d-28             [-1, 12, 6, 6]              24\n",
            "          Dropout-29             [-1, 12, 6, 6]               0\n",
            "           Conv2d-30             [-1, 16, 4, 4]           1,728\n",
            "             ReLU-31             [-1, 16, 4, 4]               0\n",
            "      BatchNorm2d-32             [-1, 16, 4, 4]              32\n",
            "          Dropout-33             [-1, 16, 4, 4]               0\n",
            "        AvgPool2d-34             [-1, 16, 1, 1]               0\n",
            "           Conv2d-35             [-1, 10, 1, 1]             160\n",
            "================================================================\n",
            "Total params: 6,084\n",
            "Trainable params: 6,084\n",
            "Non-trainable params: 0\n",
            "----------------------------------------------------------------\n",
            "Input size (MB): 0.00\n",
            "Forward/backward pass size (MB): 0.40\n",
            "Params size (MB): 0.02\n",
            "Estimated Total Size (MB): 0.43\n",
            "----------------------------------------------------------------\n"
          ]
        }
      ],
      "source": [
        "model = Net().to(device)\n",
        "summary(model, input_size=(1, 28, 28))"
      ]
    },
    {
      "cell_type": "code",
      "execution_count": 6,
      "metadata": {
        "colab": {
          "base_uri": "https://localhost:8080/"
        },
        "id": "Owqiet9M4TV7",
        "outputId": "d840c496-2a96-46d8-e6ae-6e746cfe4b81"
      },
      "outputs": [
        {
          "name": "stderr",
          "output_type": "stream",
          "text": [
            "Training: 100%|██████████| 938/938 [00:46<00:00, 20.31it/s, Loss=0.0828, Accuracy=93.05%]\n",
            "Training Progress: 100%|██████████| 1/1 [00:52<00:00, 52.45s/it, Train Loss=0.2617, Test Loss=0.0572, Train Acc=93.05%, Test Acc=98.21%]"
          ]
        },
        {
          "name": "stdout",
          "output_type": "stream",
          "text": [
            "Test set: Average loss: 0.0572, Accuracy: 9821/10000 (98.21%)\n"
          ]
        },
        {
          "name": "stderr",
          "output_type": "stream",
          "text": [
            "\n"
          ]
        }
      ],
      "source": [
        "training_parameters = {\"learning_rate\":0.01,\n",
        "                       \"momentum\":0.9,\n",
        "                       \"step_size\":6,\n",
        "                       \"gamma\":0.3,\n",
        "                       \"max_lr\":0.017,\n",
        "                       \"num_epochs\":1\n",
        "                       }\n",
        "train_losses, test_losses, train_acc, test_acc = fit_model(model,training_parameters,train_loader,test_loader,device)"
      ]
    },
    {
      "cell_type": "code",
      "execution_count": 7,
      "metadata": {
        "colab": {
          "base_uri": "https://localhost:8080/",
          "height": 1000
        },
        "id": "TU8rMAbCeQBe",
        "outputId": "f6bb418b-22af-427b-89d3-7c772cf06e9a"
      },
      "outputs": [],
      "source": [
        "grid_size = (4,4)\n",
        "show_random_results(test_loader,grid_size,model,device)"
      ]
    },
    {
      "cell_type": "code",
      "execution_count": 8,
      "metadata": {
        "colab": {
          "base_uri": "https://localhost:8080/",
          "height": 1000
        },
        "id": "C8WZPfXe4iK_",
        "outputId": "e81d852e-29c6-4b29-a6ea-511bdece592b"
      },
      "outputs": [],
      "source": [
        "grid_size = (4,4)\n",
        "plot_misclassified(model,grid_size,test_loader,device)"
      ]
    },
    {
      "cell_type": "code",
      "execution_count": 9,
      "metadata": {
        "colab": {
          "base_uri": "https://localhost:8080/",
          "height": 716
        },
        "id": "pmQtTMvBCok9",
        "outputId": "c2a1e583-95b0-4b4a-a8b3-22b2aeb6354e"
      },
      "outputs": [
        {
          "name": "stderr",
          "output_type": "stream",
          "text": [
            "Calculating class accuracies: 100%|██████████| 157/157 [00:06<00:00, 24.06it/s]\n"
          ]
        },
        {
          "data": {
            "text/plain": [
              "{' zero': 97.95918367346938,\n",
              " ' one': 99.47916666666667,\n",
              " ' two': 98.88888888888889,\n",
              " ' three': 98.07692307692308,\n",
              " ' four': 99.32885906040268,\n",
              " ' five': 96.99248120300751,\n",
              " ' six': 95.83333333333333,\n",
              " ' seven': 93.57142857142857,\n",
              " ' eight': 97.05882352941177,\n",
              " ' nine': 98.11320754716981}"
            ]
          },
          "execution_count": 9,
          "metadata": {},
          "output_type": "execute_result"
        }
      ],
      "source": [
        "calculate_accuracy_per_class(model,device,test_loader,test_data)"
      ]
    },
    {
      "cell_type": "code",
      "execution_count": 10,
      "metadata": {
        "id": "XbqwEGx-u_4F"
      },
      "outputs": [],
      "source": []
    },
    {
      "cell_type": "code",
      "execution_count": null,
      "metadata": {},
      "outputs": [],
      "source": []
    },
    {
      "cell_type": "code",
      "execution_count": null,
      "metadata": {},
      "outputs": [],
      "source": []
    }
  ],
  "metadata": {
    "accelerator": "GPU",
    "colab": {
      "gpuType": "T4",
      "provenance": []
    },
    "interpreter": {
      "hash": "94fa1b984e016cfe20f6942bcbeecabc20411b7aa02c1402b2613506b4a61dc2"
    },
    "kernelspec": {
      "display_name": "Python 3",
      "name": "python3"
    },
    "language_info": {
      "codemirror_mode": {
        "name": "ipython",
        "version": 3
      },
      "file_extension": ".py",
      "mimetype": "text/x-python",
      "name": "python",
      "nbconvert_exporter": "python",
      "pygments_lexer": "ipython3",
      "version": "3.10.0"
    }
  },
  "nbformat": 4,
  "nbformat_minor": 0
}
